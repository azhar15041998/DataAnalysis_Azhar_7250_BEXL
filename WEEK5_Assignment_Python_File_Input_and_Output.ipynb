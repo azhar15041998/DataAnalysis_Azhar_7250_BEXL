{
  "nbformat": 4,
  "nbformat_minor": 0,
  "metadata": {
    "colab": {
      "name": "WEEK5 Assignment- Python File Input and Output.ipynb",
      "provenance": [],
      "authorship_tag": "ABX9TyNHAlpHai3U2VmsKATwhSH0",
      "include_colab_link": true
    },
    "kernelspec": {
      "name": "python3",
      "display_name": "Python 3"
    },
    "language_info": {
      "name": "python"
    }
  },
  "cells": [
    {
      "cell_type": "markdown",
      "metadata": {
        "id": "view-in-github",
        "colab_type": "text"
      },
      "source": [
        "<a href=\"https://colab.research.google.com/github/azhar15041998/DataAnalysis_Azhar_7250_BEXL/blob/main/WEEK5_Assignment_Python_File_Input_and_Output.ipynb\" target=\"_parent\"><img src=\"https://colab.research.google.com/assets/colab-badge.svg\" alt=\"Open In Colab\"/></a>"
      ]
    },
    {
      "cell_type": "markdown",
      "source": [
        "**SHAIK AZARODDIN **\n",
        "WEEK 5 ASSIGNMENT "
      ],
      "metadata": {
        "id": "WvjYTgLBszu5"
      }
    },
    {
      "cell_type": "markdown",
      "source": [
        " \n",
        "\n",
        " Q.1 Problem Statements:\n",
        "Create a python program for taking user notes in text file. When a user starts it up, it should prompt them for a filename.\n",
        "If they enter a file name that doesn't exist, it should prompt them to enter the text they want to write to the file.\n",
        "After they enter the text, it should save the file and exit.If they enter a file name that already **exists**, \n",
        "it should ask the user if they want:\n",
        "A) Read the file\n",
        "B) Append the file\n",
        "C) Delete the file and start over\n",
        "\n",
        "If the user wants to read the file it should simply show the contents of the file on the screen.\n",
        "If the user wants to start over then the file should be deleted and another empty one made in its place.\n",
        "If a user elects to append the file, then they should be able to enter more text, \n",
        "and that text should be added to the existing text in the file.\n",
        "\n",
        "Note:The software Development Team created partial python code for the above problem statement, you try to help them to complete the code wherever required and produce successful output\n",
        " \n",
        " "
      ],
      "metadata": {
        "id": "TUW_kXzotA4v"
      }
    },
    {
      "cell_type": "code",
      "source": [
        "\n",
        "import os\n",
        "\n",
        "filename = input(\"Please enter the filename: \")\n",
        "# Here we check if the file exists\n",
        "if os.path.isfile(\"./\" + filename):\n",
        "    print(\"Looking for file {}...\".format(filename))\n",
        "    print(\"Found it!\")\n",
        "    action = input(\n",
        "        \"What would you like to do with the file?\\nPossible actions are: read, delete, append, replace\\n\")\n",
        "    if action == \"read\":\n",
        "        print(\"The content of the file:\")\n",
        "        with open(filename, \"r\") as read_file:  \n",
        "            print(read_file.read())  #it reads the file\n",
        "    elif action == \"append\":\n",
        "        text = input(\"Please enter your note: \")\n",
        "        with open(filename, \"a\") as append_file:\n",
        "            append_file.write(text + \"\\n\")\n",
        "    elif action == \"delete\": #it deletes the file \n",
        "        os.remove(\"./\" + filename)\n",
        "        print(\"{} have been deleted.\".format(filename))\n",
        "        \n",
        "\n",
        "        with open(filename, \"w\") as write_file:\n",
        "            write_file.write(\"\")\n",
        "    elif action == \"replace\":  #it replaces the file\n",
        "        line_num = int(input(\"Please enter the line number for the replacement: \"))\n",
        "        text = input(\"Please enter your note: \")\n",
        "        with open(filename, \"r\") as read_file:\n",
        "            lines = read_file.readlines()\n",
        "        with open(filename, \"w\") as write_file:\n",
        "            for idx, line in enumerate(lines):\n",
        "                # print(idx, line)\n",
        "                if idx == line_num - 1:\n",
        "                    print(\"Line num {} needs to be replaced!\".format(line_num))\n",
        "                    write_file.write(text + \"\\n\")\n",
        "                else:\n",
        "                    print(\"Writing \\\"{}\\\"\".format(line))\n",
        "                    write_file.write(line)\n",
        "\n",
        "    else:\n",
        "        print(\"Sorry, unrecognized action 😢\")\n",
        "else:\n",
        "    print(\"Nope, this file does not exist, I'm going to create it for you! 😄\")\n",
        "    text = input(\"Please enter your note: \")\n",
        "    with open(filename, \"w\") as write_file:\n",
        "        write_file.write(text + \"\\n\")"
      ],
      "metadata": {
        "id": "0UGznPp8tB2o"
      },
      "execution_count": null,
      "outputs": []
    },
    {
      "cell_type": "markdown",
      "source": [
        "Q2.2 write the following contents to zenofpython.txt\n",
        "content:\n",
        "--------------------------------------------------------------\n",
        "The Zen of Python, by Tim Peters\n",
        "Beautiful is better than ugly.\n",
        "Explicit is better than implicit.\n",
        "Simple is better than complex.\n",
        "Complex is better than complicated.\n",
        "Flat is better than nested.\n",
        "Sparse is better than dense.\n",
        "Readability counts.\n",
        "Special cases aren't special enough to break the rules.\n",
        "Although practicality beats purity.\n",
        "Errors should never pass silently.\n",
        "Unless explicitly silenced.\n",
        "In the face of ambiguity, refuse the temptation to guess.\n",
        "There should be one -- and preferably only one -- obvious way to do it.\n",
        "Although that way may not be obvious at first unless you're Dutch.\n",
        "Now is better than never.\n",
        "Although never is often better than right now.\n",
        "If the implementation is hard to explain, it's a bad idea.\n",
        "If the implementation is easy to explain, it may be a good idea.\n",
        "Namespaces are one honking great idea -- let's do more of those!\n",
        "------------------------------------------------------------------\n",
        "an perform the following Operation:\n",
        "1.print number of lines in the zenofpython.txt file\n",
        "2.print number of words in the zenofpython.txt file\n",
        "3.Print how may python keyword present in the zenofpython.txt file\n",
        "4.print the all content in uppercase"
      ],
      "metadata": {
        "id": "oD2L4y-pyVgt"
      }
    },
    {
      "cell_type": "code",
      "source": [
        "\n",
        " \n",
        "#1.print number of words in the zenofpython.txt file\n",
        "file = open(\"zenofpython.txt\", \"rt\")\n",
        "data = file.read()\n",
        "words = data.split()\n",
        "print('Number of words in text file :', len(words))\n",
        "\n",
        "#2.print number of lines in the zenofpython.txt file\n",
        "\n",
        "with open(r\"zenofpython.txt\", 'r') as fp:\n",
        "    x = len(fp.readlines())\n",
        "    print('Total lines:', x)  \n",
        "\n",
        "\n",
        "#4.print the all content in uppercase\n",
        "\n",
        "fo = open('zenofpython.txt', 'r')\n",
        "for x in fo.read():\n",
        "    y = x.upper()\n",
        "    fo1 = open('zenofpython.txt', 'a')\n",
        "    fo1.write(y)\n",
        "#3.Print how may python keyword present in the zenofpython.txt file\n",
        " import keyword\n",
        "\n",
        "# printing the keywords\n",
        "print(\"Python keywords are...\")\n",
        "list1 = keyword.kwlist\n",
        "print(list1)\n",
        "\n",
        "file = open(\"zenofpython.txt\", \"rt\")  #reading file as text\n",
        "data = file.read()\n",
        "words = data.split()  #prints txt file into the list of elements\n",
        "\n",
        "'''\n",
        "check = any(item in list1 for item in words)\n",
        "\n",
        "if check:\n",
        "    print(\"The list1 contains some elements of the words\")\n",
        "else:\n",
        "    print(\"No, List1 doesn't have any elements of the words.\")\n",
        "\n",
        "'''\n",
        "a_set = set(list1)  #converting list into set #set will not allow duplicate\n",
        "b_set = set(words)\n",
        " \n",
        "if (a_set & b_set): \n",
        "    print(a_set & b_set)\n",
        "else:\n",
        "    print(\"No common elements\")\n",
        " "
      ],
      "metadata": {
        "id": "yUDBgCSbyXhV"
      },
      "execution_count": null,
      "outputs": []
    }
  ]
}