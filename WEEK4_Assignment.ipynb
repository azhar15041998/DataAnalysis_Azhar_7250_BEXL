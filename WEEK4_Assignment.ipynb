{
  "nbformat": 4,
  "nbformat_minor": 0,
  "metadata": {
    "colab": {
      "name": "WEEK4:Assignment.ipynb",
      "provenance": [],
      "collapsed_sections": [],
      "authorship_tag": "ABX9TyOXgGTGrZ5NbbZPmYtgUI09",
      "include_colab_link": true
    },
    "kernelspec": {
      "name": "python3",
      "display_name": "Python 3"
    },
    "language_info": {
      "name": "python"
    }
  },
  "cells": [
    {
      "cell_type": "markdown",
      "metadata": {
        "id": "view-in-github",
        "colab_type": "text"
      },
      "source": [
        "<a href=\"https://colab.research.google.com/github/azhar15041998/DataAnalysis_Azhar_7250_BEXL/blob/main/WEEK4_Assignment.ipynb\" target=\"_parent\"><img src=\"https://colab.research.google.com/assets/colab-badge.svg\" alt=\"Open In Colab\"/></a>"
      ]
    },
    {
      "cell_type": "markdown",
      "source": [
        "**WEEK4:Assignment**\n",
        "SHAIK AZARODDIN"
      ],
      "metadata": {
        "id": "9WtkjQztZdaM"
      }
    },
    {
      "cell_type": "markdown",
      "source": [
        "Q1.TEAM ASSESMENTS\n",
        "\n",
        "The Team Leader of Testing team of XYZ company decided to assess the team members by organising a programming event. So he gave the team a task.\n",
        "The task is given an array of size N, find the number of distinct elements in the array and print them in ascending order. Those members who answer, will get some reward.\n",
        "Write a program to help the Team Leader to evaluate the solutions of the team members.\n",
        "\n",
        "Input format:\n",
        "The first line contains a single integer that denotes the size of the array, N.\n",
        "The second line contains N space separated integer values of the array.\n",
        "\n",
        "Output format:\n",
        "The first line is an integer that denotes the number of the distinct elements i nthe array.\n",
        "The second line is a series of integers seperated by space that denotes the distinct elements.\n",
        "\n",
        "Sample Input 1:\n",
        "5\n",
        "1 2 1 2 1\n",
        "Sample Output 1:\n",
        "2\n",
        "1 2\n",
        "\n",
        "Sample Input 2:\n",
        "5\n",
        "145 25 21 25 36\n",
        "Sample Output 2:\n",
        "4\n",
        "21 25 36 145\n"
      ],
      "metadata": {
        "id": "1hsBa_BWXRKH"
      }
    },
    {
      "cell_type": "code",
      "source": [
        "l = [1 ,2, 1, 2, 1]  #taking list in an element \n",
        "\n",
        "#if we pass list of values to the set() it will remove duplicates \n",
        "s = set(l)  #The second line is a series of integers seperated by space that denotes the distinct elements.\n",
        "print('The first line is an integer that denotes the number of the distinct elements i nthe array.', \"\\n\",len(s) ) #printing size of list\n",
        "\n",
        "\n",
        "print(s)"
      ],
      "metadata": {
        "colab": {
          "base_uri": "https://localhost:8080/"
        },
        "id": "oF9ZehrCXH1o",
        "outputId": "83047737-a020-4e61-8a9d-0ea201a58534"
      },
      "execution_count": null,
      "outputs": [
        {
          "output_type": "stream",
          "name": "stdout",
          "text": [
            "The first line is an integer that denotes the number of the distinct elements i nthe array. \n",
            " 2\n",
            "{1, 2}\n"
          ]
        }
      ]
    },
    {
      "cell_type": "code",
      "source": [
        "#taking input list from the user \n",
        "lst = []\n",
        "  \n",
        "# number of elements as input\n",
        "n = int(input(\"Enter number of elements : \"))\n",
        "  \n",
        "# iterating till the range\n",
        "for i in range(0, n):\n",
        "    ele = int(input())\n",
        "  \n",
        "    lst.append(ele) # adding the element\n",
        "s = set(lst)  #The second line is a series of integers seperated by space that denotes the distinct elements.\n",
        "print('The first line is an integer that denotes the number of the distinct elements in the array.', \"\\n\",len(lst) ) #printing size of list\n",
        "\n",
        "\n",
        "print(s)"
      ],
      "metadata": {
        "colab": {
          "base_uri": "https://localhost:8080/"
        },
        "id": "n4Nm9882P1RP",
        "outputId": "1aa1d2b4-57d1-49ff-a066-ad38e4c53de6"
      },
      "execution_count": null,
      "outputs": [
        {
          "output_type": "stream",
          "name": "stdout",
          "text": [
            "Enter number of elements : 5\n",
            "1\n",
            "2\n",
            "2\n",
            "1\n",
            "1\n",
            "The first line is an integer that denotes the number of the distinct elements in the array. \n",
            " 5\n",
            "{1, 2}\n"
          ]
        }
      ]
    },
    {
      "cell_type": "markdown",
      "source": [
        "Q2.ANUSHKA’S PROBLEM\n",
        "\n",
        "Anuska has created a robot that will take instructions and work accordingly. Due to budget problem, she has set the memory low. To overcome that, she has to encode the instruction. Given the instruction S, count the consecutive characters and each character will be folowed by its frequency.\n",
        "For example, if the instruction is \"aaaabb\", the encoded instruction is \"a4b2\".\n",
        "\n",
        "Note:If the frequency is one, the count need not be printed.\n",
        "\n",
        "Input format:\n",
        "The first input is a string that denotes the instruction, S.\n",
        "\n",
        "Output format\n",
        "Output is a string that denotes the encoded string.\n",
        "\n",
        "Sample input 1:\n",
        "aaaabb\n",
        "Sample output 1:\n",
        "a4b2\n",
        "\n",
        "Sample input 2:\n",
        "sggvvvgss\n",
        "Sample output 2:\n",
        "sg2v3gs2\n"
      ],
      "metadata": {
        "id": "cF4gzRoNY9Q5"
      }
    },
    {
      "cell_type": "code",
      "source": [
        "def decoding(s) :\n",
        " \n",
        "    i = 0\n",
        "    while( i < len(s) - 1) :\n",
        "        # Counting occurrences of s[i]\n",
        "        count = 1\n",
        "        while s[i] == s[i + 1] :\n",
        "            i += 1\n",
        "            count += 1    \n",
        "            if i + 1 == len(s):\n",
        "                break  \n",
        "        print(str(s[i]) + str(count),  end = \" \")\n",
        "        i += 1\n",
        "    print()\n",
        "if __name__ == \"__main__\" :\n",
        " \n",
        "    # function deconding calling\n",
        "    decoding(\"aaaabb\")\n",
        "    decoding(\"sggvvvgss\")"
      ],
      "metadata": {
        "colab": {
          "base_uri": "https://localhost:8080/"
        },
        "id": "OQxfACabYLKg",
        "outputId": "1f2c2b0e-743d-43b6-e99c-194b8cf88c91"
      },
      "execution_count": null,
      "outputs": [
        {
          "output_type": "stream",
          "name": "stdout",
          "text": [
            "a4 b2 \n",
            "s1 g2 v3 g1 s2 \n"
          ]
        }
      ]
    },
    {
      "cell_type": "code",
      "source": [
        ""
      ],
      "metadata": {
        "id": "uk5utoL7qEvl"
      },
      "execution_count": null,
      "outputs": []
    }
  ]
}